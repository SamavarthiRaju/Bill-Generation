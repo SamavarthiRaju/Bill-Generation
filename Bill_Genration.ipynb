{
 "cells": [
  {
   "cell_type": "markdown",
   "id": "1003b24a",
   "metadata": {},
   "source": [
    "# Bill Generation in SuperMarket:"
   ]
  },
  {
   "cell_type": "code",
   "execution_count": 1,
   "id": "ca4f8431",
   "metadata": {},
   "outputs": [],
   "source": [
    "# import datetime for date generation purpose\n",
    "\n",
    "from datetime import datetime\n"
   ]
  },
  {
   "cell_type": "markdown",
   "id": "79afaac4",
   "metadata": {},
   "source": [
    "### Get the Customer details:"
   ]
  },
  {
   "cell_type": "code",
   "execution_count": 2,
   "id": "31f5fc9c",
   "metadata": {},
   "outputs": [
    {
     "name": "stdout",
     "output_type": "stream",
     "text": [
      "Enter your name:Sunny\n"
     ]
    }
   ],
   "source": [
    "\n",
    "Customer_name = input(\"Enter your name:\")"
   ]
  },
  {
   "cell_type": "markdown",
   "id": "eed32d05",
   "metadata": {},
   "source": [
    "### After entering the name, customer should be able to see the items"
   ]
  },
  {
   "cell_type": "code",
   "execution_count": 3,
   "id": "19b3f368",
   "metadata": {},
   "outputs": [],
   "source": [
    "\n",
    "grocery_items = '''\n",
    "\n",
    "TATA SALT       = ₹ 28/kg\n",
    "Colgate 300gm   = ₹ 151\n",
    "Sugar           = ₹ 30/kg\n",
    "Wheat Flour     = ₹ 30.50/Kg\n",
    "Fortune Oil     = ₹ 98/L\n",
    "Maggie_Noodles  = ₹ 99\n",
    "Bourbon         = ₹ 10\n",
    "Paneer          = ₹ 110/kg\n",
    "GoodDay cookies = ₹ 91\n",
    "Boost           = ₹ 128\n",
    "Rice            = ₹ 43/kg\n",
    "\n",
    "'''\n",
    "\n"
   ]
  },
  {
   "cell_type": "markdown",
   "id": "ee3b05a1",
   "metadata": {},
   "source": [
    "# Declaration"
   ]
  },
  {
   "cell_type": "code",
   "execution_count": 4,
   "id": "e166e3a7",
   "metadata": {},
   "outputs": [],
   "source": [
    "\n",
    "price = 0\n",
    "price_list  = []\n",
    "total_price = 0\n",
    "Final_Price = 0\n",
    "\n",
    "sel_item_list  = []\n",
    "qty_list   = []\n",
    "p_list = []\n"
   ]
  },
  {
   "cell_type": "markdown",
   "id": "b1323f7f",
   "metadata": {},
   "source": [
    "### Assigning price for groceries in dictionary:\n"
   ]
  },
  {
   "cell_type": "code",
   "execution_count": 5,
   "id": "84076cf4",
   "metadata": {},
   "outputs": [],
   "source": [
    "\n",
    "items = {\n",
    "          'TATA SALT':28, 'Colgate': 151, 'Sugar':30,\n",
    "          'Wheat Flour':30.50,'Fortune Oil':98,\n",
    "          'Maggie_Noodles':99, 'Bourbon':10,\n",
    "          'Paneer':110, 'Good Day cookies':91,\n",
    "          'Boost':128, 'Rice':43\n",
    "        }"
   ]
  },
  {
   "cell_type": "code",
   "execution_count": null,
   "id": "33c906b2",
   "metadata": {},
   "outputs": [
    {
     "name": "stdout",
     "output_type": "stream",
     "text": [
      "Enter 1 --> For list of items: 1\n",
      "\n",
      "\n",
      "TATA SALT       = ₹ 28/kg\n",
      "Colgate 300gm   = ₹ 151\n",
      "Sugar           = ₹ 30/kg\n",
      "Wheat Flour     = ₹ 30.50/Kg\n",
      "Fortune Oil     = ₹ 98/L\n",
      "Maggie_Noodles  = ₹ 99\n",
      "Bourbon         = ₹ 10\n",
      "Paneer          = ₹ 110/kg\n",
      "GoodDay cookies = ₹ 91\n",
      "Boost           = ₹ 128\n",
      "Rice            = ₹ 43/kg\n",
      "\n",
      "\n",
      "If you want to purchase, please enter 1 or else enter 2: 1\n",
      "Please enter your selected grocery item name: Boost\n",
      "Enter Quantity : 56\n",
      "For billing press yes or else no : yes\n",
      "========================= WALMART =========================\n",
      "                             Bangalore\n",
      "Customer:  Sunny ============================== Date:  2023-01-07 00:33:52.014111\n",
      "---------------------------------------------------------------------------\n",
      "sno            items            Quantity     price\n",
      "0              Boost                3          384\n",
      "1              Boost                56          7168\n",
      "---------------------------------------------------------------------------\n",
      "                                                    TotalAmount: ₹  7552\n",
      "GST Amount                                                       ₹  755.2\n",
      "---------------------------------------------------------------------------\n",
      "                                                   Final Price:  ₹  8307.2\n",
      "---------------------------------------------------------------------------\n",
      "                                                   Thanks for visiting\n",
      "---------------------------------------------------------------------------\n",
      "If you want to purchase, please enter 1 or else enter 2: 1\n",
      "Please enter your selected grocery item name: Rice\n",
      "Enter Quantity : 45\n",
      "For billing press yes or else no : yes\n",
      "========================= WALMART =========================\n",
      "                             Bangalore\n",
      "Customer:  Sunny ============================== Date:  2023-01-07 00:34:21.679166\n",
      "---------------------------------------------------------------------------\n",
      "sno            items            Quantity     price\n",
      "0              Boost                3          384\n",
      "1              Boost                56          7168\n",
      "2              Rice                45          1935\n",
      "---------------------------------------------------------------------------\n",
      "                                                    TotalAmount: ₹  9487\n",
      "GST Amount                                                       ₹  948.7\n",
      "---------------------------------------------------------------------------\n",
      "                                                   Final Price:  ₹  10435.7\n",
      "---------------------------------------------------------------------------\n",
      "                                                   Thanks for visiting\n",
      "---------------------------------------------------------------------------\n"
     ]
    }
   ],
   "source": [
    "\n",
    "# selecting the option\n",
    "\n",
    "option = int(input(\"Enter 1 --> For list of items: \"))\n",
    "\n",
    "if option==1:\n",
    "    print(grocery_items)\n",
    "\n",
    "for i in range(len(items)):\n",
    "    decision = int(input(\"If you want to purchase, please enter 1 or else enter 2: \"))\n",
    "    if decision==2:\n",
    "        break\n",
    "    elif decision==1:\n",
    "        sel_item = input('Please enter your selected grocery item name: ')\n",
    "        quantity = int(input(\"Enter Quantity : \"))\n",
    "        if sel_item in items.keys():\n",
    "            price = quantity*(items[sel_item])\n",
    "            price_list.append((sel_item,quantity,items,price))\n",
    "            total_price+= price\n",
    "            sel_item_list.append(sel_item)\n",
    "            qty_list.append(quantity)\n",
    "            p_list.append(price)\n",
    "            GST = (total_price*0.10)\n",
    "            Final_Price = GST + total_price\n",
    "\n",
    "        else:\n",
    "            print('{} item is not available or you entered wrong item.'.format(sel_item))\n",
    "    else:\n",
    "        print('{} is not valid, please enter correct number'.format(decision))  \n",
    "\n",
    "\n",
    "    payment = input('For billing press yes or else no : ')\n",
    "    if payment=='yes':\n",
    "        pass\n",
    "        if Final_Price!=0:\n",
    "            print(25*\"=\",\"WALMART\",25*'=')\n",
    "            print(28*\" \",\"Bangalore\")\n",
    "            print(\"Customer: \",Customer_name,30*'=','Date: ',datetime.now())\n",
    "            print(75*\"-\")\n",
    "            print(\"sno\",10*' ',\"items\",10*' ','Quantity',3*\" \",'price')\n",
    "            for i in range(len(price_list)):\n",
    "                print(i,12*' ',sel_item_list[i],14*' ',qty_list[i],8*' ',p_list[i])\n",
    "            print(75*\"-\")\n",
    "            print(51*\" \",\"TotalAmount:\",'₹ ',total_price)\n",
    "            print(\"GST Amount \",52*\" \",'₹ ',GST)\n",
    "            print(75*\"-\")\n",
    "            print(50*\" \",\"Final Price: \",'₹ ',Final_Price)\n",
    "            print(75*\"-\")\n",
    "            print(50*\" \",\"Thanks for visiting\")\n",
    "            print(75*\"-\")\n",
    "\n",
    "\n",
    "                \n",
    "\n"
   ]
  },
  {
   "cell_type": "code",
   "execution_count": null,
   "id": "036de4df",
   "metadata": {},
   "outputs": [],
   "source": []
  }
 ],
 "metadata": {
  "kernelspec": {
   "display_name": "Python 3 (ipykernel)",
   "language": "python",
   "name": "python3"
  },
  "language_info": {
   "codemirror_mode": {
    "name": "ipython",
    "version": 3
   },
   "file_extension": ".py",
   "mimetype": "text/x-python",
   "name": "python",
   "nbconvert_exporter": "python",
   "pygments_lexer": "ipython3",
   "version": "3.9.13"
  }
 },
 "nbformat": 4,
 "nbformat_minor": 5
}
